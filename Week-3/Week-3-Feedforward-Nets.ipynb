{
 "cells": [
  {
   "cell_type": "markdown",
   "metadata": {},
   "source": [
    "# Feedforward Neural Networks\n",
    "\n",
    "This week, we will introduce (artificial) neural networks, which are machine learning methods that draw inspiration from biological nervous systems where huge numbers of interconnected neurons (nerve cells) send electricalchemical signals, frequently in response to external stimuli, to one another throughout the body and within the brain.\n",
    "\n",
    "Neural networks excel at machine learning tasks when large amounts of data is available (thousands of datapoints). We will, for now, focus on the applications of neural networks to classification and regression problems.\n",
    "\n",
    "This week's notes will be mostly dedicated sharing my code with you because we will primarily be studying from <a href=\"http://neuralnetworksanddeeplearning.com/\">*Neural Networks and Deep Learning*</a> by Michael Nielsen. This <a href=\"https://www.youtube.com/playlist?list=PLZHQObOWTQDNU6R1_67000Dx_ZCJB-3pi\">playlist of YouTube videos</a> is based on Nielsen's book and is pretty amazing for explaining this content as well. I cannot recommend it enough!\n",
    "\n",
    "<a href=\"https://github.com/mnielsen/neural-networks-and-deep-learning\">Nielsen's code</a> is written in Python 2.7, so I would not recommend using his code, but Michal Daniel Dobrzanski provides <a href=\"https://github.com/MichalDanielDobrzanski/DeepLearningPython35\">updated code</a> in Python 3.5.\n",
    "\n",
    "## Perceptrons\n",
    "\n",
    "Refer to my PDF notes for details, but we will write some code for Perceptrons below. First, we import numpy."
   ]
  },
  {
   "cell_type": "code",
   "execution_count": 1,
   "metadata": {},
   "outputs": [],
   "source": [
    "import numpy as np\n",
    "import matplotlib.pyplot as plt\n",
    "from sklearn.model_selection import train_test_split\n",
    "from sklearn.metrics import classification_report"
   ]
  },
  {
   "cell_type": "code",
   "execution_count": 2,
   "metadata": {},
   "outputs": [],
   "source": [
    "class Perceptron:\n",
    "    \n",
    "    def __init__(self, N, alpha = 0.1):\n",
    "        # initialize the weights randomly and learning rate\n",
    "        self.W = np.random.randn(N + 1)\n",
    "        self.alpha = alpha\n",
    "        \n",
    "    def fit(self, X, y, epochs = 10):\n",
    "        # insert a column of 1s at the end of X\n",
    "        X = np.hstack((X, np.ones([X.shape[0], 1])))\n",
    "        \n",
    "        for epoch in range(epochs):\n",
    "            # do the dot product between w and x\n",
    "            for (x, target) in zip(X,y):\n",
    "                \n",
    "                dotProduct = np.dot(x, self.W)\n",
    "                \n",
    "                if dotProduct < 0 and target == 1:\n",
    "                    self.W += self.alpha*x\n",
    "                \n",
    "                if dotProduct >= 0 and target == 0:\n",
    "                    self.W -= self.alpha*x\n",
    "                    \n",
    "    def predict(self, X):\n",
    "        X = np.hstack((X, np.ones([X.shape[0], 1])))\n",
    "        \n",
    "        predictedY = np.zeros([X.shape[0], 1])\n",
    "        \n",
    "        for counter in range(X.shape[0]):\n",
    "            dotProduct = np.dot(X[counter,], self.W)\n",
    "            \n",
    "            if dotProduct < 0:\n",
    "                predictedY[counter] = 0\n",
    "            \n",
    "            else:\n",
    "                predictedY[counter] = 1\n",
    "                \n",
    "        return predictedY"
   ]
  },
  {
   "cell_type": "markdown",
   "metadata": {},
   "source": [
    "### Example: OR function"
   ]
  },
  {
   "cell_type": "code",
   "execution_count": 6,
   "metadata": {},
   "outputs": [
    {
     "name": "stdout",
     "output_type": "stream",
     "text": [
      "              precision    recall  f1-score   support\n",
      "\n",
      "           0       1.00      1.00      1.00         1\n",
      "           1       1.00      1.00      1.00         3\n",
      "\n",
      "    accuracy                           1.00         4\n",
      "   macro avg       1.00      1.00      1.00         4\n",
      "weighted avg       1.00      1.00      1.00         4\n",
      "\n"
     ]
    }
   ],
   "source": [
    "X = np.array([[0, 0], [0, 1], [1, 0], [1, 1]])\n",
    "y = np.array([[0], [1], [1], [1]])\n",
    "\n",
    "model = Perceptron(X.shape[1], alpha=0.1)\n",
    "model.fit(X, y, epochs=100)\n",
    "yPredicted = model.predict(X)\n",
    "\n",
    "print(classification_report(y, yPredicted))"
   ]
  },
  {
   "cell_type": "markdown",
   "metadata": {},
   "source": [
    "As we can see, it works perfectly at approximating the OR function since the data is linearly separable.\n",
    "\n",
    "### Example: Random Points"
   ]
  },
  {
   "cell_type": "code",
   "execution_count": 10,
   "metadata": {},
   "outputs": [
    {
     "name": "stdout",
     "output_type": "stream",
     "text": [
      "              precision    recall  f1-score   support\n",
      "\n",
      "           0       0.83      0.74      0.78        27\n",
      "           1       0.73      0.83      0.78        23\n",
      "\n",
      "    accuracy                           0.78        50\n",
      "   macro avg       0.78      0.78      0.78        50\n",
      "weighted avg       0.79      0.78      0.78        50\n",
      "\n"
     ]
    },
    {
     "data": {
      "text/plain": [
       "[<matplotlib.lines.Line2D at 0x1ca085064c8>]"
      ]
     },
     "execution_count": 10,
     "metadata": {},
     "output_type": "execute_result"
    },
    {
     "data": {
      "image/png": "[encoded data removed]",
      "text/plain": [
       "<Figure size 432x288 with 1 Axes>"
      ]
     },
     "metadata": {
      "needs_background": "light"
     },
     "output_type": "display_data"
    }
   ],
   "source": [
    "# number of points to generate\n",
    "numberOfPoints = 100\n",
    "\n",
    "# generate points from class 0\n",
    "mean1 = np.array([-1, -1])\n",
    "covariance1 = np.array([[5, 0], [0, 5]])\n",
    "X1 = np.random.multivariate_normal(mean1, covariance1, numberOfPoints)\n",
    "\n",
    "# generate points from class 1\n",
    "mean2 = np.array([3, 3])\n",
    "covariance2 = np.array([[5, 3], [3, 5]])\n",
    "X2 = np.random.multivariate_normal(mean2, covariance2, numberOfPoints)\n",
    "\n",
    "# stack the points\n",
    "X = np.vstack((X1, X2))\n",
    "\n",
    "# create a vector of the labels\n",
    "y = np.hstack((numberOfPoints * [0], numberOfPoints * [1]))\n",
    "\n",
    "# train test split\n",
    "(trainX, testX, trainY, testY) = train_test_split(X, y, test_size = 0.25, random_state = 1)\n",
    "\n",
    "# instantiate a model\n",
    "model = Perceptron(2)\n",
    "\n",
    "# fit the model to the training data\n",
    "model.fit(trainX, trainY, epochs = 1000)\n",
    "predictedY = model.predict(testX)\n",
    "\n",
    "print(classification_report(testY, predictedY))\n",
    "\n",
    "# plot the training set\n",
    "plt.scatter(trainX[:,0], trainX[:,1], c = trainY, marker = '.')\n",
    "\n",
    "parameters = model.W\n",
    "\n",
    "xModel = np.linspace(-10, 10, 100)\n",
    "yModel = -parameters[0]/parameters[1]*xModel - parameters[2]/parameters[0]\n",
    "lineFormula = '{:.3f}x_1+{:.3f}x_2+{:.3f}=0'.format(parameters[0], parameters[1], parameters[2])\n",
    "plt.plot(xModel, yModel, 'g', label = lineFormula)"
   ]
  },
  {
   "cell_type": "markdown",
   "metadata": {},
   "source": [
    "In this case, the Perceptron algorithm can achieve decent accuracy on test accuracy at 78%, but the method clearly has its limitations since it can only create a linear decision boundary. It has performed as well as it can under this restriction, but it is typically a poor assumption for practical binary classification problems."
   ]
  },
  {
   "cell_type": "markdown",
   "metadata": {},
   "source": [
    "## Code for Feedforward Neural Networks\n",
    "\n",
    "Let's take it a step forward and write some code for neural networks (to be continued!)\n",
    "\n",
    "There are three main bits of code we need to make neural nets work. Assume that we have a training dataset $X$.\n",
    "\n",
    "1. **Forward pass**: feeds a datapoint into a neural network and processes it by computing the outputs of each layer of artificial neurons until we reach the output layer and compute the loss\n",
    "\n",
    "2. **Stochastic gradient descent (SGD)**: after feeding in some data and computing the loss, we need to adjust the weights in such a way to reduce the loss function (in the opposite direction of the gradient)\n",
    "\n",
    "3. **Backpropagation (Backprop)**: to find gradient formulas, this will use the chain rule in a systematic way to find the gradient of the loss function\n",
    "\n",
    "### The Forward Pass\n",
    "\n",
    "The forward pass is simple, we just follow the simple rules of the individual neurons, but we have to do it **many** times, which we can automate with matrix multiplication (see our notes from class on Sept 3).\n",
    "\n",
    "### Stochastic Gradient Descent\n",
    "\n",
    "We already know what gradient descent is, we run our model on training data, compute the loss function, find the gradient of the loss function (i.e. the derivatives of the loss function with respect to each parameter), and update our parameters in the opposite direction of the gradient by a small amount. The same general approach will be used in most neural networks.\n",
    "\n",
    "In linear models, we compute the outputs and loss function for the entire dataset (usually multiple times) per iteration of gradient descent, make a weight update based on the gradient, and repeat. At the other end of the spectrum, the Perceptron algorithm made a weight update for every single datapoint input.\n",
    "\n",
    "The typical approach in neural networks is **stochastic** gradient descent (SGD). It turns out, computing outputs for the whole dataset or only a single input before making a weight update is expensive, but doing a weight update after each datapoint would be a bad idea because outlier datapoints might have an overly strong pull on parameters. SGD takes a middle path: update weights after processing a random sample, called a **mini-batch**, of datapoints--enough points to reduce the variance of using just one for more stable convergence of parameters, but not so much that the computation is not too expensive. In this way, we process a mini-batch for outputs, compute an approximate loss function and approximate gradients, update weights, and repeat\n",
    "\n",
    "How large should our mini-batches be? Typically, using $2^n$ for something like $n=5, 6, 7, 8$ because these values tend to be ideal for the linear algebra optimization libraries we use (NumPy, TensorFlow, etc). The mini-batch size is a hyperparameter, but it generally isn't one you need to tweak. One exception is if you are using GPUs for computing: then, it's best to choose the largest power of 2 that allows a whole mini-batch to fit into GPU memory.\n",
    "\n",
    "\n",
    "### Backpropagation\n",
    "\n",
    "In the past, we approximated the gradient by computing the loss functions many times, perturbed in each dimension to compute\n",
    "\n",
    "$$\\nabla L(\\beta)\\approx\\left(\\frac{L(\\beta+he_0)-L(\\beta)}{h}, ..., \\frac{L(\\beta+he_d)-L(\\beta)}{h}\\right)$$\n",
    "\n",
    "for some small value $h$, but this meant we had to compute the loss function $d+2$ times for **each** iteration in gradient descent, which required us to compute the outputs of the model for the whole dataset many, many times. This was fine for the linear regression models we have considered, but it would be too computationally expensive to feed the whole dataset through a neural network so many times.\n",
    "\n",
    "As a result, we instead need another method to compute gradients. It turns out, we can systematically apply the chain rule to get formulas for the partial derivatives of the loss function with respect to each weight in the neural network. Backpropagation does just this.\n",
    "\n",
    "### Feedforward Neural Network Class\n",
    "\n",
    "We will write the three parts above as functions within a class for constructing feedforward neural networks.\n",
    "\n",
    "First, import some packages."
   ]
  },
  {
   "cell_type": "code",
   "execution_count": 6,
   "metadata": {},
   "outputs": [],
   "source": [
    "import numpy as np"
   ]
  },
  {
   "cell_type": "markdown",
   "metadata": {},
   "source": [
    "Now, we can write our class."
   ]
  },
  {
   "cell_type": "code",
   "execution_count": 1,
   "metadata": {},
   "outputs": [],
   "source": [
    "class FeedforwardNeuralNetwork:\n",
    "    \n",
    "    # input a vector [a, b, c, ...] with the number of nodes in each layer\n",
    "    def __init__(self, layers, alpha = 0.1):\n",
    "        # list of weight matrices between layers\n",
    "        self.W = []\n",
    "        \n",
    "        # network architecture will be a vector of numbers of nodes for each layer\n",
    "        self.layers = layers\n",
    "        \n",
    "        # learning rate\n",
    "        self.alpha = alpha\n",
    "        \n",
    "        # initialize the weights (randomly) -- this is our initial guess for gradient descent\n",
    "        \n",
    "        # initialize the weights between layers (up to the next-to-last one) as normal random variables\n",
    "        for i in np.arange(0, len(layers) - 2):\n",
    "            self.W.append(np.random.randn(layers[i] + 1, layers[i+1] + 1))\n",
    "            \n",
    "        # initialize weights between the last two layers (we don't want bias for the last one)\n",
    "        self.W.append(np.random.randn(layers[-2] + 1, layers[-1]))\n",
    "        \n",
    "    # define the sigmoid activation\n",
    "    def sigmoid(self, x):\n",
    "        return 1.0 / (1 + np.exp(-x))    \n",
    "    \n",
    "    # fit the model\n",
    "    def fit(self, X, y, epochs = 1000):\n",
    "        # add a column of ones to the end of X\n",
    "        self.data = np.hstack((X, np.ones([X.shape[0]])))\n",
    "\n",
    "        for epoch in range(epochs):\n",
    "\n",
    "            # feed forward, backprop, and weight update\n",
    "            for (x, target) in zip(X, y):                \n",
    "                # feed forward\n",
    "                for layer in np.arange(0, len(self.W)):\n",
    "                    # make a list of output activations from the first layer\n",
    "                    # (just the original x values)\n",
    "                    A = [np.atleast_2d(x)]\n",
    "                    \n",
    "                    # feed through one layer and apply sigmoid activation\n",
    "                    net = A[layer].dot(self.W[layer])\n",
    "                    out = self.sigmoid(net)\n",
    "                    \n",
    "                    # add our network output to the list of activations\n",
    "                    A.append(out)\n",
    "                    \n",
    "                # backpropagation\n",
    "                # (coming soon!)\n",
    "                \n",
    "                # weight update\n",
    "                for layer in np.arange(0, len(self.W)):\n",
    "                    self.W[layer] -= self.alpha * A[layer].T #.dot(GRADIENT FOR LAYER)\n",
    "                \n",
    "    def predict(self, X):\n",
    "        # initialize data, be sure it's the right dimension\n",
    "        p = np.atleast_2d(X)\n",
    "        \n",
    "        # add a column of 1s for bias\n",
    "        p = np.hstack((p, np.ones([X.shape[0]])))\n",
    "        \n",
    "        # feed forward!\n",
    "        for layer in np.arange(0, len(self.W)):\n",
    "            p = self.sigmoid(np.dot(p, self.W[layer]))\n",
    "            \n",
    "        return p\n",
    "    \n",
    "    def computeLoss(self, X, y):\n",
    "        # initialize data, be sure it's the right dimension\n",
    "        y = np.atleast_2d(y)\n",
    "        \n",
    "        # feed the datapoints through the network to get predicted outputs\n",
    "        predictions = self.predict(X)\n",
    "        loss = np.sum((predictions - targets)**2) / 2.0\n",
    "        \n",
    "        return loss"
   ]
  },
  {
   "cell_type": "code",
   "execution_count": 10,
   "metadata": {},
   "outputs": [
    {
     "data": {
      "text/plain": [
       "{'W': [array([[-0.22217146,  0.40152272,  0.73050437,  0.96711884, -0.53290175,\n",
       "          -0.02450855,  1.25445555,  0.10182787,  0.76015251,  0.59741123],\n",
       "         [-0.77061679,  1.70872901,  0.14173255, -0.41584325, -0.27772237,\n",
       "           2.09361381, -0.27686568, -0.42060973, -0.03297713,  0.12997664],\n",
       "         [ 0.47287815, -0.5650574 , -0.82391006, -0.44449032, -1.59095314,\n",
       "          -0.02662758, -1.99003019, -0.69985126,  0.12365658,  0.61104105]]),\n",
       "  array([[-0.99400038, -0.04869223],\n",
       "         [ 0.02470179,  0.68023405],\n",
       "         [ 0.29078972, -2.31642138],\n",
       "         [ 0.53058914, -1.76020864],\n",
       "         [-1.01489262,  0.63725797],\n",
       "         [-1.00511279,  1.1181217 ],\n",
       "         [ 0.21070703,  1.50894175],\n",
       "         [-0.27418686,  0.3713974 ],\n",
       "         [ 1.01607232, -0.48921934],\n",
       "         [ 0.19532271, -1.22881464]])],\n",
       " 'layers': [2, 9, 2],\n",
       " 'alpha': 0.1}"
      ]
     },
     "execution_count": 10,
     "metadata": {},
     "output_type": "execute_result"
    }
   ],
   "source": [
    "model = FeedforwardNeuralNetwork([2, 9, 2])\n",
    "vars(model)"
   ]
  },
  {
   "cell_type": "code",
   "execution_count": null,
   "metadata": {},
   "outputs": [],
   "source": []
  }
 ],
 "metadata": {
  "kernelspec": {
   "display_name": "Python 3.7 (DL)",
   "language": "python",
   "name": "dl"
  },
  "language_info": {
   "codemirror_mode": {
    "name": "ipython",
    "version": 3
   },
   "file_extension": ".py",
   "mimetype": "text/x-python",
   "name": "python",
   "nbconvert_exporter": "python",
   "pygments_lexer": "ipython3",
   "version": "3.7.7"
  }
 },
 "nbformat": 4,
 "nbformat_minor": 4
}
